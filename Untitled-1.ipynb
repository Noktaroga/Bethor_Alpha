{
 "cells": [
  {
   "cell_type": "code",
   "execution_count": 16,
   "metadata": {},
   "outputs": [
    {
     "name": "stdout",
     "output_type": "stream",
     "text": [
      "Datos de la Premier League guardados en 'premier_league_data.json'\n"
     ]
    }
   ],
   "source": [
    "import requests\n",
    "from bs4 import BeautifulSoup\n",
    "import json\n",
    "\n",
    "# URL de la página que queremos scrapear\n",
    "url = \"https://fbref.com/en/comps/30/Russian-Premier-League-Stats\"\n",
    "\n",
    "response = requests.get(url)\n",
    "\n",
    "# Crear una instancia de BeautifulSoup\n",
    "soup = BeautifulSoup(response.text, 'html.parser')\n",
    "\n",
    "#Tambien imprimir el HTML en archivo\n",
    "#Elabora un prettify antes de guardarlo en el archivo\n",
    "\n",
    "with open('premier_league_data.html', 'w') as file:\n",
    "    file.write(soup.prettify())\n",
    "\n",
    "# Identificar la tabla por su ID específico pero de forma automatizada sin conocerlo aun \n",
    "\n",
    "#Rescatando el id de la tabla\n",
    "table = soup.find('table')\n",
    "table_id = table['id']\n",
    "\n",
    "# Extraer los datos de la tabla\n",
    "teams_data = []\n",
    "if table:\n",
    "    headers = [header.text for header in table.find('thead').find_all('th')]\n",
    "    for row in table.find('tbody').find_all('tr'):\n",
    "        cells = row.find_all('td')\n",
    "        if cells:\n",
    "            team_data = {headers[i]: cells[i].text.strip() for i in range(len(cells))}\n",
    "            teams_data.append(team_data)\n",
    "\n",
    "# Guardar los datos en un archivo JSON\n",
    "with open('premier_league_data.json', 'w') as json_file:\n",
    "    json.dump(teams_data, json_file, indent=4)\n",
    "\n",
    "\n",
    "\n",
    "print(\"Datos de la Premier League guardados en 'premier_league_data.json'\")\n",
    "\n",
    "\n",
    "#Implementando la misma logica dentro de la siguiente funcion: \n"
   ]
  },
  {
   "cell_type": "code",
   "execution_count": null,
   "metadata": {},
   "outputs": [],
   "source": []
  },
  {
   "cell_type": "code",
   "execution_count": null,
   "metadata": {},
   "outputs": [],
   "source": [
    "    def scrape_team_stats(self, league_url, liga, table_id):\n",
    "        \"\"\"\n",
    "        Scrapea las estadísticas del equipo desde la página de estadísticas de la liga proporcionada.\n",
    "        Incluye 'liga' como parámetro para identificar la liga de la cual se están scrapeando las estadísticas.\n",
    "        'table_id' es el ID de la tabla que contiene las estadísticas en la página.\n",
    "        \"\"\"\n",
    "        self.update_headers(referer=league_url)\n",
    "        response = self.make_request(league_url)\n",
    "        soup = BeautifulSoup(response.text, 'html.parser')\n",
    "\n",
    "        # Identificar la tabla por el ID dinámico\n",
    "        table = soup.find('table', {'id': table_id})\n",
    "        teams_data = []\n",
    "        if table:\n",
    "            rows = table.find('tbody').find_all('tr')\n",
    "            for row in rows:\n",
    "                cells = row.find_all('td')\n",
    "                if cells:  # Verificar si no es una fila vacía\n",
    "                    team_data = {\n",
    "                        'Liga': liga,\n",
    "                        'Team': cells[0].find('a').text.strip() if cells[0].find('a') else cells[0].text.strip(),\n",
    "                        'MP': cells[1].text.strip(),\n",
    "                        'W': cells[2].text.strip(),\n",
    "                        'D': cells[3].text.strip(),\n",
    "                        'L': cells[4].text.strip(),\n",
    "                        'GF': cells[5].text.strip(),\n",
    "                        'GA': cells[6].text.strip(),\n",
    "                        'GD': cells[7].text.strip(),\n",
    "                        'Pts': cells[8].text.strip(),\n",
    "                        'Pts/MP': cells[9].text.strip(),\n",
    "                        'xG': cells[10].text.strip(),\n",
    "                        'xGA': cells[11].text.strip(),\n",
    "                        'xGD': cells[12].text.strip(),\n",
    "                        'xGD/90': cells[13].text.strip(),\n",
    "                        'Attendance': cells[14].text.strip(),\n",
    "                        'Top Team Scorer': cells[15].text.strip(),\n",
    "                        'Goalkeeper': cells[16].text.strip(),\n",
    "                    }\n",
    "                    teams_data.append(team_data)\n",
    "        else:\n",
    "            print(f\"No se encontró la tabla de estadísticas del equipo en la página: {league_url}\")\n",
    "\n",
    "        return teams_data"
   ]
  }
 ],
 "metadata": {
  "kernelspec": {
   "display_name": "bethor",
   "language": "python",
   "name": "python3"
  },
  "language_info": {
   "codemirror_mode": {
    "name": "ipython",
    "version": 3
   },
   "file_extension": ".py",
   "mimetype": "text/x-python",
   "name": "python",
   "nbconvert_exporter": "python",
   "pygments_lexer": "ipython3",
   "version": "3.9.0"
  }
 },
 "nbformat": 4,
 "nbformat_minor": 2
}
